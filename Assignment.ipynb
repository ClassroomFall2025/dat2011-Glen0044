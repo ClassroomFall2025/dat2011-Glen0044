{
 "cells": [
  {
   "cell_type": "markdown",
   "id": "6ba27fed",
   "metadata": {},
   "source": [
    "Assignment"
   ]
  },
  {
   "cell_type": "code",
   "execution_count": null,
   "id": "fda7060c",
   "metadata": {},
   "outputs": [],
   "source": [
    "menu = \"\"\"1. Nhap danh sach nhan vien\n",
    "        2. Doc thong tin nhan vien\n",
    "        3. Tim và hien thi nhan vien theo ma\n",
    "        4. Xoa nhan vien\n",
    "        5. Cap nhat thong tin nhan vien\n",
    "        6. Tim cac nhan vien theo khoang luong\n",
    "        7. Sap xep nhan vien theo ho va ten\n",
    "        8. Sap xep nhan vien theo thu nhap\n",
    "        9. Xuat 5 nhan vien co thu nhap cao nhat\"\"\"\n",
    "while True:\n",
    "    print(menu)\n",
    "    lua_chon = input(\"Nhap lua chon cua ban (0 de thoat): \")\n",
    "    match lua_chon:\n",
    "        case \"0\":\n",
    "            print(\"Thoat chuong trinh\")\n",
    "            break\n",
    "        case \"1\":\n",
    "            print(\"Nhap danh sach nhan vien\")\n",
    "        case \"2\":\n",
    "            print(\"Doc thong tin nhan vien\")\n",
    "        case \"3\":\n",
    "            print(\"Tim va hien thi nhan vien theo ma\")\n",
    "        case \"4\":\n",
    "            print(\"Xoa nhan vien\")\n",
    "        case \"5\":\n",
    "            print(\"Cap nhat thong tin nhan vien\")\n",
    "        case \"6\":\n",
    "            print(\"Tim cac nhan vien theo khoang luong\")\n",
    "        case \"7\":\n",
    "            print(\"Sap xep nhan vien theo ho va ten\")\n",
    "        case \"8\":\n",
    "            print(\"Sap xep nhan vien theo thu nhap\")\n",
    "        case \"9\":\n",
    "            print(\"Xuat 5 nhan vien co thu nhap cao nhat\")\n",
    "        case _:\n",
    "            print(\"Lựa chọn không hợp lệ, vui lòng chọn lại.\")\n"
   ]
  }
 ],
 "metadata": {
  "language_info": {
   "name": "python"
  }
 },
 "nbformat": 4,
 "nbformat_minor": 5
}
