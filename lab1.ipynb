{
 "cells": [
  {
   "cell_type": "markdown",
   "id": "fdeff819",
   "metadata": {},
   "source": [
    "# Sinh Viên thực hiện Lab 1 ở Đây"
   ]
  },
  {
   "cell_type": "markdown",
   "id": "acc5d7dc",
   "metadata": {},
   "source": [
    "## Lab 1 - Bài 1"
   ]
  },
  {
   "cell_type": "code",
   "execution_count": 15,
   "id": "001e0507",
   "metadata": {},
   "outputs": [
    {
     "name": "stdout",
     "output_type": "stream",
     "text": [
      "Xin Chào!\n",
      "Tôi tên là Vũ Đình An.\n",
      "Tôi đến từ Đồng Nai.\n",
      "Tôi đến từ Xã Gia Kiệm, Đồng Nai\n"
     ]
    }
   ],
   "source": [
    "# Code lab 1 bài 1 ở đây\n",
    "print(\"Xin Chào!\")\n",
    "print(\"Tôi tên là Vũ Đình An.\")\n",
    "print(\"Tôi đến từ Đồng Nai.\")\n",
    "Xã = \"Xã Gia Kiệm, Đồng Nai\"\n",
    "print(\"Tôi đến từ \" + Xã)"
   ]
  },
  {
   "cell_type": "markdown",
   "id": "c0835310",
   "metadata": {},
   "source": [
    "## Lab 1 - Bài 2"
   ]
  },
  {
   "cell_type": "code",
   "execution_count": 4,
   "id": "fa9cb39f",
   "metadata": {},
   "outputs": [
    {
     "name": "stdout",
     "output_type": "stream",
     "text": [
      "Chu vi hình chữ nhật là: 18.0\n",
      "Diện tích hình chữ nhật là: 18.0\n"
     ]
    }
   ],
   "source": [
    "# Code lab 1  bài 2 ở đây\n",
    "dài = float(input(\"Nhập chiều dài hình chữ nhật: \"))\n",
    "rộng = float(input(\"Nhập chiều rộng hình chữ nhật: \"))\n",
    "chu_vi = (dài + rộng) * 2\n",
    "diện_tích = dài * rộng\n",
    "print(\"Chu vi hình chữ nhật là: \" + str(chu_vi))\n",
    "print(\"Diện tích hình chữ nhật là: \" + str(diện_tích))"
   ]
  },
  {
   "cell_type": "markdown",
   "id": "0f2483fe",
   "metadata": {},
   "source": [
    "## Lab 1 - Bài 3"
   ]
  },
  {
   "cell_type": "code",
   "execution_count": 1,
   "id": "7034990b",
   "metadata": {},
   "outputs": [
    {
     "name": "stdout",
     "output_type": "stream",
     "text": [
      " '... \n",
      "Sống không giận, không hờn không oán trách\n",
      "Sống mỉm cười, với thử thách trông gai\n",
      "Sống vươn lên, theo kịp ánh ban mai\n",
      "Sống chan hòa, với những người chung sống.\n",
      "\n",
      "Sống là động, nhưng lòng luôn bất động\n",
      "Sống là thương, nhưng lòng chẳng vấn vương\n",
      "Sống yên vui, danh lợi mãi coi thường\n",
      "Tâm bất biến, giữa dòng đời vạn biến.\n",
      "... ' \n"
     ]
    }
   ],
   "source": [
    "# Code lab 1  bài 3 ở đây\n",
    "print(\" '... \")\n",
    "print(\"Sống không giận, không hờn không oán trách\")\n",
    "print(\"Sống mỉm cười, với thử thách trông gai\")\n",
    "print(\"Sống vươn lên, theo kịp ánh ban mai\")\n",
    "print(\"Sống chan hòa, với những người chung sống.\")\n",
    "print()\n",
    "print(\"Sống là động, nhưng lòng luôn bất động\")\n",
    "print(\"Sống là thương, nhưng lòng chẳng vấn vương\")\n",
    "print(\"Sống yên vui, danh lợi mãi coi thường\")\n",
    "print(\"Tâm bất biến, giữa dòng đời vạn biến.\")\n",
    "print(\"... ' \")"
   ]
  },
  {
   "cell_type": "markdown",
   "id": "d36ea3d3",
   "metadata": {},
   "source": [
    "## Lab 1 - Bài 4"
   ]
  },
  {
   "cell_type": "code",
   "execution_count": 8,
   "id": "4c707ec1",
   "metadata": {},
   "outputs": [
    {
     "name": "stdout",
     "output_type": "stream",
     "text": [
      "Phương trình vô nghiệm\n"
     ]
    }
   ],
   "source": [
    "# code lab 1 bài 4 ở đây\n",
    "import math\n",
    "a = float(input(\"Nhập hệ số a: \"))\n",
    "b = float(input(\"Nhập hệ số b: \"))\n",
    "c = float(input(\"Nhập hệ số c: \"))\n",
    "delta = b**2 - 4*a*c\n",
    "if delta >= 0:\n",
    "    x1 = (-b + math.sqrt(delta)) / (2*a)\n",
    "    x2 = (-b - math.sqrt(delta)) / (2*a)\n",
    "    print(\"Nghiệm x1 = {x1}, nghiệm x2 = {x2}\")\n",
    "else:\n",
    "    print(\"Phương trình vô nghiệm\")   "
   ]
  },
  {
   "cell_type": "markdown",
   "id": "e2b41d4a",
   "metadata": {},
   "source": [
    "## Lab 1 - Bài 5: bài tập làm thêm"
   ]
  },
  {
   "cell_type": "code",
   "execution_count": null,
   "id": "0e0172f7",
   "metadata": {},
   "outputs": [],
   "source": [
    "# code lab 1  bài làm thêm ở đây "
   ]
  }
 ],
 "metadata": {
  "kernelspec": {
   "display_name": "Python 3",
   "language": "python",
   "name": "python3"
  },
  "language_info": {
   "codemirror_mode": {
    "name": "ipython",
    "version": 3
   },
   "file_extension": ".py",
   "mimetype": "text/x-python",
   "name": "python",
   "nbconvert_exporter": "python",
   "pygments_lexer": "ipython3",
   "version": "3.13.7"
  }
 },
 "nbformat": 4,
 "nbformat_minor": 5
}
