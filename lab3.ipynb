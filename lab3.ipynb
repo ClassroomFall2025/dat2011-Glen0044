{
 "cells": [
  {
   "cell_type": "markdown",
   "id": "fdeff819",
   "metadata": {},
   "source": [
    "# Sinh Viên thực hiện Lab 3 ở Đây"
   ]
  },
  {
   "cell_type": "markdown",
   "id": "acc5d7dc",
   "metadata": {},
   "source": [
    "## Lab 3 - Bài 1"
   ]
  },
  {
   "cell_type": "code",
   "execution_count": 14,
   "id": "001e0507",
   "metadata": {},
   "outputs": [
    {
     "name": "stdout",
     "output_type": "stream",
     "text": [
      "Kết thúc nhập số\n",
      "dãy số tăng dần: [3, 5, 7, 9, 11, 15]\n",
      "giá trị nhỏ nhất: 3\n",
      "Tổng các phần tử chia hết cho 3: 27\n",
      "có 3 phần tử chia hết cho 3 trong dãy số\n",
      "tbc 9.0\n",
      "các phần tử chia hết cho 3: [3, 9, 15]\n"
     ]
    }
   ],
   "source": [
    "# Code lab 3 bài 1 ở đây\n",
    "\n",
    "day_so = []\n",
    "day_so_chia_het_cho_3 = []\n",
    "tong = 0\n",
    "dem = 0\n",
    "while True:\n",
    "    so = input(\"Nhập số: \")\n",
    "    if so == 'q':\n",
    "        print(\"Kết thúc nhập số\")\n",
    "        break\n",
    "    else:\n",
    "        phan_tu = int(so)\n",
    "        day_so.append(phan_tu) \n",
    "day_so.sort()\n",
    "print(\"dãy số tăng dần:\", day_so) \n",
    "print(\"giá trị nhỏ nhất:\", day_so[0])\n",
    "#phần tử chia hết cho 3\n",
    "for phan_tu in day_so:\n",
    "    if phan_tu % 3 == 0:\n",
    "        day_so_chia_het_cho_3.append(phan_tu)\n",
    "        tong = tong + phan_tu\n",
    "        dem = dem + 1\n",
    "print(\"Tổng các phần tử chia hết cho 3:\", tong)\n",
    "print(f\"có {dem} phần tử chia hết cho 3 trong dãy số\")\n",
    "if dem != 0:\n",
    "    print(\"tbc\", tong / dem)\n",
    "    print(\"các phần tử chia hết cho 3:\", day_so_chia_het_cho_3)\n",
    "else:\n",
    "    print(\"không có phần tử nào chia hết cho 3\")\n",
    "\n",
    "        "
   ]
  },
  {
   "cell_type": "markdown",
   "id": "c0835310",
   "metadata": {},
   "source": [
    "## Lab 3 - Bài 2"
   ]
  },
  {
   "cell_type": "code",
   "execution_count": 7,
   "id": "fa9cb39f",
   "metadata": {},
   "outputs": [
    {
     "name": "stdout",
     "output_type": "stream",
     "text": [
      "Kết thúc nhập sinh viên\n",
      "[{'Ho_ten': 'fjhdjfhd ', 'Diem': 9.0, 'Họ tên': 'q', 'Điểm': 9.0, 'Học lực': 'Xuất sắc'}]\n"
     ]
    }
   ],
   "source": [
    "# Code lab 3  bài 2 ở đây\n",
    "danh_sach_sinh_vien = []\n",
    "sinh_vien = {}\n",
    "while True:\n",
    "    Ho_ten = input(\"Nhập họ tên sinh viên: \")\n",
    "    if Ho_ten == 'q':\n",
    "        print(\"Kết thúc nhập sinh viên\")\n",
    "        break\n",
    "    else:\n",
    "        Diem = float(input(\"Nhập điểm sinh viên: \"))\n",
    "        sinh_vien = {'Ho_ten': Ho_ten, 'Diem': Diem}\n",
    "#print(sinh_vien)\n",
    "if Diem >= 9 and Diem <= 10:\n",
    "    hoc_luc = \"Xuất sắc\"\n",
    "elif Diem >= 8 and Diem < 9:\n",
    "    hoc_luc = \"Giỏi\"\n",
    "elif Diem >= 7 and Diem < 8:\n",
    "    hoc_luc = \"Khá\"\n",
    "elif Diem >= 5 and Diem < 7:\n",
    "    hoc_luc = \"Trung bình\"\n",
    "else:\n",
    "    hoc_luc = \"Chưa đạt\"\n",
    "sinh_vien['Họ tên'] = Ho_ten\n",
    "sinh_vien['Điểm'] = Diem\n",
    "sinh_vien['Học lực'] = hoc_luc\n",
    "danh_sach_sinh_vien.append(sinh_vien)\n",
    "print(danh_sach_sinh_vien)\n"
   ]
  },
  {
   "cell_type": "markdown",
   "id": "0f2483fe",
   "metadata": {},
   "source": [
    "## Lab 3 - Bài 3"
   ]
  },
  {
   "cell_type": "code",
   "execution_count": 11,
   "id": "7034990b",
   "metadata": {},
   "outputs": [
    {
     "name": "stdout",
     "output_type": "stream",
     "text": [
      "True\n"
     ]
    }
   ],
   "source": [
    "# Code lab 3  bài 3 ở đây\n",
    "so = int(input(\"Nhập số cần tìm: \"))\n",
    "ok = True\n",
    "i = 2\n",
    "while i <(5-1): #n là số nhập từ bàn phím\n",
    "    if 5 % i == 0:\n",
    "        ok = False\n",
    "        break\n",
    "    i += 1\n",
    "print(ok)"
   ]
  },
  {
   "cell_type": "markdown",
   "id": "d36ea3d3",
   "metadata": {},
   "source": [
    "## Lab 3 - Bài 4"
   ]
  },
  {
   "cell_type": "code",
   "execution_count": 14,
   "id": "4c707ec1",
   "metadata": {},
   "outputs": [
    {
     "name": "stdout",
     "output_type": "stream",
     "text": [
      "7 x 1 = 7\n",
      "7 x 2 = 14\n",
      "7 x 3 = 21\n",
      "7 x 4 = 28\n",
      "7 x 5 = 35\n",
      "7 x 6 = 42\n",
      "7 x 7 = 49\n",
      "7 x 8 = 56\n",
      "7 x 9 = 63\n",
      "1 x 1 = 1\n",
      "1 x 2 = 2\n",
      "1 x 3 = 3\n",
      "1 x 4 = 4\n",
      "1 x 5 = 5\n",
      "1 x 6 = 6\n",
      "1 x 7 = 7\n",
      "1 x 8 = 8\n",
      "1 x 9 = 9\n",
      "2 x 1 = 2\n",
      "2 x 2 = 4\n",
      "2 x 3 = 6\n",
      "2 x 4 = 8\n",
      "2 x 5 = 10\n",
      "2 x 6 = 12\n",
      "2 x 7 = 14\n",
      "2 x 8 = 16\n",
      "2 x 9 = 18\n",
      "3 x 1 = 3\n",
      "3 x 2 = 6\n",
      "3 x 3 = 9\n",
      "3 x 4 = 12\n",
      "3 x 5 = 15\n",
      "3 x 6 = 18\n",
      "3 x 7 = 21\n",
      "3 x 8 = 24\n",
      "3 x 9 = 27\n",
      "4 x 1 = 4\n",
      "4 x 2 = 8\n",
      "4 x 3 = 12\n",
      "4 x 4 = 16\n",
      "4 x 5 = 20\n",
      "4 x 6 = 24\n",
      "4 x 7 = 28\n",
      "4 x 8 = 32\n",
      "4 x 9 = 36\n",
      "5 x 1 = 5\n",
      "5 x 2 = 10\n",
      "5 x 3 = 15\n",
      "5 x 4 = 20\n",
      "5 x 5 = 25\n",
      "5 x 6 = 30\n",
      "5 x 7 = 35\n",
      "5 x 8 = 40\n",
      "5 x 9 = 45\n",
      "6 x 1 = 6\n",
      "6 x 2 = 12\n",
      "6 x 3 = 18\n",
      "6 x 4 = 24\n",
      "6 x 5 = 30\n",
      "6 x 6 = 36\n",
      "6 x 7 = 42\n",
      "6 x 8 = 48\n",
      "6 x 9 = 54\n",
      "7 x 1 = 7\n",
      "7 x 2 = 14\n",
      "7 x 3 = 21\n",
      "7 x 4 = 28\n",
      "7 x 5 = 35\n",
      "7 x 6 = 42\n",
      "7 x 7 = 49\n",
      "7 x 8 = 56\n",
      "7 x 9 = 63\n",
      "8 x 1 = 8\n",
      "8 x 2 = 16\n",
      "8 x 3 = 24\n",
      "8 x 4 = 32\n",
      "8 x 5 = 40\n",
      "8 x 6 = 48\n",
      "8 x 7 = 56\n",
      "8 x 8 = 64\n",
      "8 x 9 = 72\n",
      "9 x 1 = 9\n",
      "9 x 2 = 18\n",
      "9 x 3 = 27\n",
      "9 x 4 = 36\n",
      "9 x 5 = 45\n",
      "9 x 6 = 54\n",
      "9 x 7 = 63\n",
      "9 x 8 = 72\n",
      "9 x 9 = 81\n"
     ]
    }
   ],
   "source": [
    "# code lab 3 bài 4 ở đây\n",
    "x = 7\n",
    "for i in range(1, 10):\n",
    "    print(\"%d x %d = %d\" % (x, i, x*i))\n",
    "for i in range(1, 10):\n",
    "    for j in range(1, 10):   \n",
    "        print(\"%d x %d = %d\" % (i, j, i*j))\n"
   ]
  },
  {
   "cell_type": "markdown",
   "id": "e2b41d4a",
   "metadata": {},
   "source": [
    "## Lab 3 - Bài 5: bài tập làm thêm"
   ]
  },
  {
   "cell_type": "code",
   "execution_count": null,
   "id": "0e0172f7",
   "metadata": {},
   "outputs": [],
   "source": [
    "# code lab 3  bài làm thêm ở đây "
   ]
  }
 ],
 "metadata": {
  "kernelspec": {
   "display_name": "Python 3",
   "language": "python",
   "name": "python3"
  },
  "language_info": {
   "codemirror_mode": {
    "name": "ipython",
    "version": 3
   },
   "file_extension": ".py",
   "mimetype": "text/x-python",
   "name": "python",
   "nbconvert_exporter": "python",
   "pygments_lexer": "ipython3",
   "version": "3.13.7"
  }
 },
 "nbformat": 4,
 "nbformat_minor": 5
}
