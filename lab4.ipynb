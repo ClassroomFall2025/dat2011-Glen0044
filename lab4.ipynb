{
 "cells": [
  {
   "cell_type": "markdown",
   "id": "fdeff819",
   "metadata": {},
   "source": [
    "# Sinh Viên thực hiện Lab 4 ở Đây"
   ]
  },
  {
   "cell_type": "markdown",
   "id": "acc5d7dc",
   "metadata": {},
   "source": [
    "## Lab 1 - Bài 1"
   ]
  },
  {
   "cell_type": "code",
   "execution_count": 7,
   "id": "001e0507",
   "metadata": {},
   "outputs": [],
   "source": [
    "# Code lab 4 bài 1 ở đây\n",
    "def tinh_tien_nuoc(so_nuoc):\n",
    "     gia_ban_nuoc = (7500, 8800, 12000, 24000)\n",
    "     if so_nuoc <= 10 and so_nuoc >= 0:\n",
    "         tien_nuoc = so_nuoc * gia_ban_nuoc[0]\n",
    "     elif so_nuoc <= 20:\n",
    "          tien_nuoc = 10 * gia_ban_nuoc[0] + (so_nuoc - 10) * gia_ban_nuoc[1]\n",
    "     elif so_nuoc <= 30:\n",
    "          tien_nuoc = 10 * gia_ban_nuoc[0] + 10 * gia_ban_nuoc[1] + (so_nuoc - 20) * gia_ban_nuoc[2]\n",
    "     else:\n",
    "          tien_nuoc = 10 * gia_ban_nuoc[0] + 10 * gia_ban_nuoc[1] + 10 * gia_ban_nuoc[2] + (so_nuoc - 30) * gia_ban_nuoc[3]\n",
    "     return tien_nuoc\n",
    "\n",
    "\n"
   ]
  },
  {
   "cell_type": "markdown",
   "id": "c0835310",
   "metadata": {},
   "source": [
    "## Lab 4 - Bài 2"
   ]
  },
  {
   "cell_type": "code",
   "execution_count": 9,
   "id": "fa9cb39f",
   "metadata": {},
   "outputs": [],
   "source": [
    "# Code lab 4  bài 2 ở đây\n",
    "def tinh_nguyen_lieu(sl_bdx, sl_btc, sl_bd):\n",
    "    banh_dau_xanh = {\"đường\": 0.04, \"đậu\": 0.07}\n",
    "    banh_thap_cam = {\"đường\": 0.06, \"bột\": 0}\n",
    "    banh_deo = {\"đường\": 0.05, \"bột\": 0.02}\n",
    "    tong_duong = sl_bdx * banh_dau_xanh[\"đường\"] + sl_btc * banh_thap_cam[\"đường\"] + sl_bd * banh_deo[\"đường\"]\n",
    "    tong_dau = sl_bdx * banh_dau_xanh[\"đậu\"] + sl_btc * banh_thap_cam[\"đậu\"] + sl_bd * banh_deo[\"đậu\"]\n",
    "    nguyen_lieu[\"đường\"] = tong_duong\n",
    "    nguyen_lieu[\"đậu\"] = tong_dau\n",
    "    return nguyen_lieu\n"
   ]
  },
  {
   "cell_type": "markdown",
   "id": "0f2483fe",
   "metadata": {},
   "source": [
    "## Lab 4 - Bài 3"
   ]
  },
  {
   "cell_type": "code",
   "execution_count": 3,
   "id": "7034990b",
   "metadata": {},
   "outputs": [],
   "source": [
    "# Code lab 4  bài 3 ở đây\n",
    "my_list = [1, 2, 4, 5, 7, 8, 9, 10]\n",
    "new_list = list(filter(lambda x: (x % 2 != 0), my_list))\n",
    "\n",
    "            "
   ]
  },
  {
   "cell_type": "markdown",
   "id": "d36ea3d3",
   "metadata": {},
   "source": [
    "## Lab 4 - Bài 4"
   ]
  },
  {
   "cell_type": "code",
   "execution_count": null,
   "id": "4c707ec1",
   "metadata": {},
   "outputs": [],
   "source": [
    "# code lab 4 bài 4 ở đây\n",
    "import Lab4\n",
    "menu = { \"1\": \"Tiền nước sinh hoạt\",\n",
    "         \"2\": \"Nguyên liệu làm bánh\",\n",
    "         \"3\": \"Kết thúc\"}\n",
    "while True:\n",
    "    print(\"===\"*10 + \"MENU\" + \"===\"*10)\n",
    "    for k, v in menu.items():\n",
    "        print(f\"{k}. {v}\")\n",
    "        print(\"lựa chọn chức năng\")\n",
    "        lua_chon = (\"nhập chức năng chương trình\")\n",
    "        if lua_chon == \"3\":\n",
    "            print(\"kết thúc chương trình\")\n",
    "            break\n",
    "        elif lua_chon == \"1\":\n",
    "            so_nuoc = float(input(\"số nước: \"))\n",
    "            print(f\"Tiền nước: {Lab4.tinh_tien_nuoc(so_nuoc)}\")\n",
    "        elif lua_chon == \"2\":\n",
    "            sl_bdx = float(input(\"số lượng bánh đậu xanh: \"))\n",
    "            sl_btc = float(input(\"số lượng bánh thập cẩm: \"))\n",
    "            sl_bd = float(input(\"số lượng bánh dẻo: \"))\n",
    "            print(f\"Nguyên liệu: {Lab4.tinh_nguyen_lieu(sl_bdx, sl_btc, sl_bd)}\")\n",
    "        else:"
   ]
  },
  {
   "cell_type": "markdown",
   "id": "e2b41d4a",
   "metadata": {},
   "source": [
    "## Lab 4 - Bài 5: bài tập làm thêm"
   ]
  },
  {
   "cell_type": "code",
   "execution_count": null,
   "id": "0e0172f7",
   "metadata": {},
   "outputs": [],
   "source": [
    "# code lab 4  bài làm thêm ở đây "
   ]
  }
 ],
 "metadata": {
  "kernelspec": {
   "display_name": "Python 3",
   "language": "python",
   "name": "python3"
  },
  "language_info": {
   "codemirror_mode": {
    "name": "ipython",
    "version": 3
   },
   "file_extension": ".py",
   "mimetype": "text/x-python",
   "name": "python",
   "nbconvert_exporter": "python",
   "pygments_lexer": "ipython3",
   "version": "3.13.7"
  }
 },
 "nbformat": 4,
 "nbformat_minor": 5
}
