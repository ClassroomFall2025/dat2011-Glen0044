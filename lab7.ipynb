{
 "cells": [
  {
   "cell_type": "markdown",
   "id": "fdeff819",
   "metadata": {},
   "source": [
    "# Sinh Viên thực hiện Lab 7 ở Đây"
   ]
  },
  {
   "cell_type": "markdown",
   "id": "acc5d7dc",
   "metadata": {},
   "source": [
    "## Lab 7 - Bài 1"
   ]
  },
  {
   "cell_type": "code",
   "execution_count": 8,
   "id": "001e0507",
   "metadata": {},
   "outputs": [
    {
     "name": "stdout",
     "output_type": "stream",
     "text": [
      "Tự nguyện\n",
      "Trương Quốc Khánh\n",
      "Nếu là chim, tôi sẽ là loài bồ câu trắng\n",
      "Nếu là hoa, tôi sẽ là một đóa hướng dương\n",
      "Nếu là mây, tôi sẽ là một vầng mây ấm\n",
      "Là người, tôi sẽ chết cho quê hương.\n",
      "\n",
      "Là chim, tôi sẽ cất cao đôi cánh mềm\n",
      "Từ nam ra ngoài bắc báo tin nối liền\n",
      "Là hoa, tôi nở tình yêu ban sớm\n",
      "Cùng muôn trái tim ngất ngây hoà bình.\n",
      "\n",
      "Là mây, theo làn gió tung bay khắp trời\n",
      "Nghìn xưa oai hùng đó tôi xin tiếp lời\n",
      "Là người, xin một lần khi nằm xuống\n",
      "Nhìn anh em đứng lên phất cao ngọn cờ.\n",
      "Dòng 1: Tự nguyện\n",
      "Dòng 2: Trương Quốc Khánh\n",
      "Dòng 3: Nếu là chim, tôi sẽ là loài bồ câu trắng\n",
      "Dòng 4: Nếu là hoa, tôi sẽ là một đóa hướng dương\n",
      "Dòng 5: Nếu là mây, tôi sẽ là một vầng mây ấm\n",
      "Dòng 6: Là người, tôi sẽ chết cho quê hương.\n",
      "Dòng 7: \n",
      "Dòng 8: Là chim, tôi sẽ cất cao đôi cánh mềm\n",
      "Dòng 9: Từ nam ra ngoài bắc báo tin nối liền\n",
      "Dòng 10: Là hoa, tôi nở tình yêu ban sớm\n",
      "Dòng 11: Cùng muôn trái tim ngất ngây hoà bình.\n",
      "Dòng 12: \n",
      "Dòng 13: Là mây, theo làn gió tung bay khắp trời\n",
      "Dòng 14: Nghìn xưa oai hùng đó tôi xin tiếp lời\n",
      "Dòng 15: Là người, xin một lần khi nằm xuống\n",
      "Dòng 16: Nhìn anh em đứng lên phất cao ngọn cờ.\n"
     ]
    },
    {
     "ename": "UnsupportedOperation",
     "evalue": "not readable",
     "output_type": "error",
     "traceback": [
      "\u001b[31m---------------------------------------------------------------------------\u001b[39m",
      "\u001b[31mUnsupportedOperation\u001b[39m                      Traceback (most recent call last)",
      "\u001b[36mCell\u001b[39m\u001b[36m \u001b[39m\u001b[32mIn[8]\u001b[39m\u001b[32m, line 14\u001b[39m\n\u001b[32m     10\u001b[39m         \u001b[38;5;28mprint\u001b[39m(\u001b[33mf\u001b[39m\u001b[33m\"\u001b[39m\u001b[33mDòng \u001b[39m\u001b[38;5;132;01m{\u001b[39;00mcount\u001b[38;5;132;01m}\u001b[39;00m\u001b[33m: \u001b[39m\u001b[38;5;132;01m{\u001b[39;00mline.strip()\u001b[38;5;132;01m}\u001b[39;00m\u001b[33m\"\u001b[39m)\n\u001b[32m     12\u001b[39m file = \u001b[38;5;28mopen\u001b[39m(\u001b[33m\"\u001b[39m\u001b[33mResource1.txt\u001b[39m\u001b[33m\"\u001b[39m, \u001b[33m\"\u001b[39m\u001b[33mw\u001b[39m\u001b[33m\"\u001b[39m, encoding=\u001b[33m\"\u001b[39m\u001b[33mutf-8\u001b[39m\u001b[33m\"\u001b[39m)\n\u001b[32m---> \u001b[39m\u001b[32m14\u001b[39m noidung = \u001b[43mfile\u001b[49m\u001b[43m.\u001b[49m\u001b[43mread\u001b[49m\u001b[43m(\u001b[49m\u001b[43m)\u001b[49m\n\u001b[32m     15\u001b[39m \u001b[38;5;28mprint\u001b[39m(noidung)\n",
      "\u001b[31mUnsupportedOperation\u001b[39m: not readable"
     ]
    }
   ],
   "source": [
    "# Code lab 7 bài 1 ở đây\n",
    "file = open(\"Resource.txt\", \"r\",encoding=\"utf-8\")\n",
    "noidung = file.read()\n",
    "print(noidung)\n",
    "\n",
    "with open(\"Resource.txt\", \"r\", encoding=\"utf-8\") as file:\n",
    "    count = 0\n",
    "    for line in file:\n",
    "        count += 1\n",
    "        print(f\"Dòng {count}: {line.strip()}\")\n",
    "\n",
    "file = open(\"Resource1.txt\", \"w\", encoding=\"utf-8\")\n",
    "\n",
    "noidung = file.read()\n",
    "print(noidung)"
   ]
  },
  {
   "cell_type": "markdown",
   "id": "c0835310",
   "metadata": {},
   "source": [
    "## Lab 7 - Bài 2"
   ]
  },
  {
   "cell_type": "code",
   "execution_count": null,
   "id": "fa9cb39f",
   "metadata": {},
   "outputs": [],
   "source": [
    "# Code lab 7  bài 2 ở đây\n",
    "with open(\"Resource.txt\", \"r\", encoding=\"utf-8\") as f:\n",
    "    noi_dung = f.read()\n",
    "noi_dung = \"\"\"… \n",
    "Nếu một mai tôi có bay lên trời \n",
    "Thì người ơi tôi đã sống rất thảnh thơi\n",
    "Nếu một mai tôi có đi qua đời \n",
    "Thì người ơi tôi đã sống rất tuyệt vời \n",
    "…\"\"\"\n",
    "with open(\"Lab7-Exercise2.txt\", \"w\", encoding=\"utf-8\") as f:\n",
    "    f.write(noi_dung)"
   ]
  },
  {
   "cell_type": "markdown",
   "id": "0f2483fe",
   "metadata": {},
   "source": [
    "## Lab 7 - Bài 3"
   ]
  },
  {
   "cell_type": "code",
   "execution_count": null,
   "id": "7034990b",
   "metadata": {},
   "outputs": [
    {
     "ename": "ValueError",
     "evalue": "invalid literal for int() with base 10: ''",
     "output_type": "error",
     "traceback": [
      "\u001b[31m---------------------------------------------------------------------------\u001b[39m",
      "\u001b[31mValueError\u001b[39m                                Traceback (most recent call last)",
      "\u001b[36mCell\u001b[39m\u001b[36m \u001b[39m\u001b[32mIn[1]\u001b[39m\u001b[32m, line 3\u001b[39m\n\u001b[32m      1\u001b[39m \u001b[38;5;66;03m# Code lab 7  bài 3 ở đây\u001b[39;00m\n\u001b[32m      2\u001b[39m \u001b[38;5;28;01mimport\u001b[39;00m\u001b[38;5;250m \u001b[39m\u001b[34;01mcsv\u001b[39;00m\n\u001b[32m----> \u001b[39m\u001b[32m3\u001b[39m n = \u001b[38;5;28;43mint\u001b[39;49m\u001b[43m(\u001b[49m\u001b[38;5;28;43minput\u001b[39;49m\u001b[43m(\u001b[49m\u001b[33;43m\"\u001b[39;49m\u001b[33;43mNhập số lượng bai tho: \u001b[39;49m\u001b[33;43m\"\u001b[39;49m\u001b[43m)\u001b[49m\u001b[43m)\u001b[49m\n\u001b[32m      4\u001b[39m \u001b[38;5;28;01mwith\u001b[39;00m \u001b[38;5;28mopen\u001b[39m(\u001b[33m\"\u001b[39m\u001b[33mthohay.csv\u001b[39m\u001b[33m\"\u001b[39m,\u001b[33m\"\u001b[39m\u001b[33mw\u001b[39m\u001b[33m\"\u001b[39m, encoding=\u001b[33m\"\u001b[39m\u001b[33mutf-8\u001b[39m\u001b[33m\"\u001b[39m) \u001b[38;5;28;01mas\u001b[39;00m f:\n\u001b[32m      5\u001b[39m     write = csv.writer(f)\n",
      "\u001b[31mValueError\u001b[39m: invalid literal for int() with base 10: ''"
     ]
    }
   ],
   "source": [
    "# Code lab 7  bài 3 ở đây\n",
    "import csv\n",
    "n = int(input(\"Nhập số lượng bai tho: \"))\n",
    "with open(\"thohay.csv\",\"w\", encoding=\"utf-8\") as f:\n",
    "    write = csv.writer(f)\n",
    "    write.writerow(\"Tên bài thơ, Tác giả, Năm sáng tác\".split(\",\"))\n",
    "    for i in range(n):\n",
    "        print(f\"\\n Nhập thông tin bài thơ thứ {i}:\")\n",
    "        tieu_de = input(\"Tiêu đề: \")\n",
    "        tac_gia = input(\"Tác giả: \")\n",
    "        nam_sang_tac = input(\"Năm sáng tác: \")\n",
    "        print(tieu_de, tac_gia, nam_sang_tac)\n",
    "        write.writerow([tieu_de, tac_gia, nam_sang_tac])"
   ]
  },
  {
   "cell_type": "markdown",
   "id": "d36ea3d3",
   "metadata": {},
   "source": [
    "## Lab 7 - Bài 4"
   ]
  },
  {
   "cell_type": "code",
   "execution_count": null,
   "id": "4c707ec1",
   "metadata": {},
   "outputs": [
    {
     "name": "stdout",
     "output_type": "stream",
     "text": [
      "['Tự nguyện', 'Trương Quốc Khánh', 'Nếu là chim, tôi sẽ là loài bồ câu trắng', 'Nếu là hoa, tôi sẽ là một đóa hướng dương', 'Nếu là mây, tôi sẽ là một vầng mây ấm', 'Là người, tôi sẽ chết cho quê hương.', '', 'Là chim, tôi sẽ cất cao đôi cánh mềm', 'Từ nam ra ngoài bắc báo tin nối liền', 'Là hoa, tôi nở tình yêu ban sớm', 'Cùng muôn trái tim ngất ngây hoà bình.', '', 'Là mây, theo làn gió tung bay khắp trời', 'Nghìn xưa oai hùng đó tôi xin tiếp lời', 'Là người, xin một lần khi nằm xuống', 'Nhìn anh em đứng lên phất cao ngọn cờ.']\n"
     ]
    }
   ],
   "source": [
    "# code lab 7 bài 4 ở đây\n",
    "with open(\"Resource.txt\", \"r\", encoding=\"utf-8\") as file:\n",
    "    noi_dung = [dong.strip() for dong in file.readlines()]\n",
    "    print(noi_dung)\n",
    "\n",
    "with open(\"Resource.xml\", \"w\", encoding=\"utf-8\") as file:\n",
    "    file1.write()\n",
    ")\n"
   ]
  },
  {
   "cell_type": "markdown",
   "id": "e2b41d4a",
   "metadata": {},
   "source": [
    "## Lab 7 - Bài 5: bài tập làm thêm"
   ]
  },
  {
   "cell_type": "code",
   "execution_count": null,
   "id": "0e0172f7",
   "metadata": {},
   "outputs": [],
   "source": [
    "# code lab 7  bài làm thêm ở đây "
   ]
  }
 ],
 "metadata": {
  "kernelspec": {
   "display_name": "Python 3",
   "language": "python",
   "name": "python3"
  },
  "language_info": {
   "codemirror_mode": {
    "name": "ipython",
    "version": 3
   },
   "file_extension": ".py",
   "mimetype": "text/x-python",
   "name": "python",
   "nbconvert_exporter": "python",
   "pygments_lexer": "ipython3",
   "version": "3.13.7"
  }
 },
 "nbformat": 4,
 "nbformat_minor": 5
}
